{
  "nbformat": 4,
  "nbformat_minor": 0,
  "metadata": {
    "colab": {
      "provenance": [],
      "collapsed_sections": []
    },
    "kernelspec": {
      "name": "python3",
      "display_name": "Python 3"
    },
    "language_info": {
      "name": "python"
    },
    "accelerator": "GPU"
  },
  "cells": [
    {
      "cell_type": "markdown",
      "source": [
        "#Audio-based activity recognization\n",
        "####***A machine learning pipeline to detect activities and events using sound***\n",
        "#####The project involves data collection, data pre-processing/signal conditioning, feature extraction, using an existing ML implementation, and analysis of results for audio-based activity recognization.\n",
        "\n",
        "#####The data used in the project are collected with Voice Recorder on an iPhone. 20 samples of five events (approximately 30 seconds each) including microwave, blender, fire alarm, vacuum cleaner, and music are collected to build the model from scratch. 20 samples of silence are also included. They are used to develop a logic that can be used in the future to filter out silent periods or segment actual events."
      ],
      "metadata": {
        "id": "WIEQBiF2ch5y"
      }
    },
    {
      "cell_type": "markdown",
      "source": [
        "### Load pre-recorded data \n",
        "####***Pre-processing and feature extraction***\n"
      ],
      "metadata": {
        "id": "S7oi6wnsuq3A"
      }
    },
    {
      "cell_type": "code",
      "source": [
        "# Importing libraries\n",
        "import numpy as np\n",
        "from sklearn.model_selection import KFold, cross_val_score\n",
        "from sklearn.ensemble import RandomForestClassifier\n",
        "from sklearn.svm import SVC\n",
        "from sklearn.neural_network import MLPClassifier\n",
        "from sklearn.linear_model import LogisticRegression\n",
        "from sklearn.neighbors import KNeighborsClassifier\n",
        "from sklearn.metrics import confusion_matrix, ConfusionMatrixDisplay\n",
        "from sklearn.model_selection import train_test_split\n",
        "from sklearn.svm import SVC\n",
        "from sklearn import preprocessing\n",
        "import matplotlib.pyplot as plt\n",
        "from matplotlib.colors import ListedColormap\n",
        "from os.path import dirname, join as pjoin\n",
        "from scipy.io import wavfile as wav\n",
        "import scipy.io\n",
        "import os\n",
        "import librosa \n",
        "import librosa.display\n",
        "import soundfile as sf\n",
        "%matplotlib inline"
      ],
      "metadata": {
        "id": "k4C2kFAFe8cF"
      },
      "execution_count": 58,
      "outputs": []
    },
    {
      "cell_type": "markdown",
      "source": [
        "Upload recorded audio data.zip into colab and unzip the file (it might take a few minutes to upload)."
      ],
      "metadata": {
        "id": "8igqfHqbV-7N"
      }
    },
    {
      "cell_type": "code",
      "source": [
        "!unzip /content/data.zip"
      ],
      "metadata": {
        "colab": {
          "base_uri": "https://localhost:8080/",
          "height": 0
        },
        "id": "9GQA-FPkV8iJ",
        "outputId": "a6f46d21-2c50-4d2b-c9c1-ab72a26c112c"
      },
      "execution_count": 3,
      "outputs": [
        {
          "output_type": "stream",
          "name": "stdout",
          "text": [
            "Archive:  /content/data.zip\n",
            "replace __MACOSX/._data? [y]es, [n]o, [A]ll, [N]one, [r]ename: "
          ]
        }
      ]
    },
    {
      "cell_type": "markdown",
      "source": [
        "###Load data from wave file and store the faturized data and corresponding class label.  \n",
        "\n",
        "####**Pre processing**\n",
        "*   Trim and make each file the same length (30 seconds each)\n",
        "* Normalize the amplitude of audio files so the value stays between 0 and 1 -- so we won't reply on loudness as a feature since it changes with distance\n",
        "* Convert the raw time-domain signal into frequency-domain and normalize the amplitude using `librosa.stft`\n",
        "\n",
        "####**Feature extraction**\n",
        "Note: The whole 30 seconds recording is treated as a single \"window\" since dividing each recording into multiple windows didn't show better performance (potentially because most events I recorded are consistent the whole period).\n",
        "\n",
        "*   ***Domain-specific features***\n",
        "\n",
        "> * **Standard deviation of time-domain signal**: how loudness changes over time in a recording\n",
        "> * **Standard deviation of frequency-domain signal**: how diverse the frequency spectrum is. This feature should be extremely useful for fire alarm and music since their frequencies varies a lot over the recording.\n",
        "> * **Median of frequency-domain signal**: the median frequency should represent the main frequency level of white-noise classes (blender, vacuum, silence, and main microwave sound). For the rest, it should represent the overall frequency of the data to help us differentiate.\n",
        "> * **Average zero-crossing rate of time-domain signal**: the rate at which a signal changes from positive to zero to negative or from negative to zero to positive. This feature aims the capture the change in voltage and should work well with music. \\\\\n",
        "> * **Note**: for frequency-domain signal, since we want to observe the overall trend, the calculation is based on the weighted average frequency of each frame given by `librosa.feature.spectral_centroid`, where each frame of a magnitude spectrogram is normalized and treated as a distribution over frequency bins, from which the mean (centroid) is extracted per frame.\n",
        "\n",
        "\n",
        "\n",
        "*    ***Spectrogram features***\n",
        "\n",
        "> * **Mel-frequency cepstral coefficients (MFCCs)**: we bin the spectrogram data from the recordings and using each bin as a feature by using mfcc (convert the 2D array of samples given by stft in pre-processing into a smaller array)\n",
        ">> * By calculating MFCC, we window the signal, apply the DFT, take the log of the magnitude, and then warp the frequencies on a Mel scale, followed by applying the inverse DCT. Basically, we have extracted features of each bin on a Mel scale.\n",
        "\n",
        "\n",
        "\n",
        "\n"
      ],
      "metadata": {
        "id": "ojgSfHYGukqf"
      }
    },
    {
      "cell_type": "code",
      "source": [
        "def get_data(data_path):\n",
        "  X, y = [], []\n",
        "  file_names = [f.path for f in os.scandir(data_path) if (f.path != \"/content/data/.DS_Store\")]\n",
        "\n",
        "  # Load each wave file and their label\n",
        "  for file in file_names:\n",
        "    print(f\"Loading file {file}...\")\n",
        "    # Note: file name has format \"/content/data/class_01.wav\"\n",
        "    class_label = (file.split(\"/\")[-1]).split(\"_\")[0]\n",
        "    y.append(class_label)\n",
        "\n",
        "    # ---------------------------Pre processing---------------------------------\n",
        "    # Convert all the audio samples into the same length (30 seconds)\n",
        "    time_domain_audio, sample_rate = librosa.load(file, duration=30)\n",
        "    # Normalize the audio data so the value is only between 0 and 1\n",
        "    time_domain_audio = librosa.util.normalize(time_domain_audio)\n",
        "    # Convert time domain signal to frequency domain signal using librosa.stft\n",
        "    freq_domain_audio = librosa.stft(time_domain_audio)\n",
        "\n",
        "    # ------------------------------Featurize-----------------------------------\n",
        "    features = []\n",
        "    # Domain-specific features\n",
        "    # Feature 1: standard deviation of time-domain signal\n",
        "    feature1 = np.std(time_domain_audio)\n",
        "    features.append(feature1)\n",
        "\n",
        "    # Feature 2: standard deviation of frequency-domain signal\n",
        "    # Note: frequency of each frame is the spectral centroid\n",
        "    feature2 = np.std(librosa.feature.spectral_centroid(y=time_domain_audio))\n",
        "    features.append(feature2)\n",
        "    \n",
        "    # Feature 3: Median of frequency-domain signal\n",
        "    feature3 = np.median(librosa.feature.spectral_centroid(y=time_domain_audio))\n",
        "    features.append(feature3)\n",
        "\n",
        "    # Feature 4: Average zero-crossing rate of time-domain signal\n",
        "    feature4 = np.mean(librosa.feature.zero_crossing_rate(time_domain_audio))\n",
        "    features.append(feature4)\n",
        "\n",
        "    # Feature 5 - 8: Extracted Mel-frequency cepstral coefficients (MFCCs)\n",
        "    feature_mfcc = librosa.feature.mfcc(y=time_domain_audio)\n",
        "    temp = []\n",
        "    for i in range(4):\n",
        "      mfcc_temp = 0\n",
        "      for j in range(5):\n",
        "        mfcc_temp += np.median(feature_mfcc[i*4+j])\n",
        "      temp.append(mfcc_temp)\n",
        "    features.extend(temp)\n",
        "    \n",
        "    X.append(features)\n",
        "  \n",
        "  print(\"DONE!\")\n",
        "  return X, y\n",
        "\n",
        "X, y = get_data(\"/content/data\")"
      ],
      "metadata": {
        "id": "rQqUR8O1vtrJ",
        "colab": {
          "base_uri": "https://localhost:8080/",
          "height": 0
        },
        "outputId": "e9c05fb8-4d7d-421d-ec01-13e71e433703"
      },
      "execution_count": 56,
      "outputs": [
        {
          "output_type": "stream",
          "name": "stdout",
          "text": [
            "Loading file /content/data/alarm_07.wav...\n",
            "Loading file /content/data/silence_03.wav...\n",
            "Loading file /content/data/vacuum_18.wav...\n",
            "Loading file /content/data/alarm_05.wav...\n",
            "Loading file /content/data/microwave_11.wav...\n",
            "Loading file /content/data/blender_08.wav...\n",
            "Loading file /content/data/silence_04.wav...\n",
            "Loading file /content/data/blender_05.wav...\n",
            "Loading file /content/data/music_05.wav...\n",
            "Loading file /content/data/alarm_03.wav...\n",
            "Loading file /content/data/blender_03.wav...\n",
            "Loading file /content/data/alarm_20.wav...\n",
            "Loading file /content/data/music_11.wav...\n",
            "Loading file /content/data/blender_01.wav...\n",
            "Loading file /content/data/microwave_18.wav...\n",
            "Loading file /content/data/microwave_06.wav...\n",
            "Loading file /content/data/music_15.wav...\n",
            "Loading file /content/data/vacuum_19.wav...\n",
            "Loading file /content/data/alarm_02.wav...\n",
            "Loading file /content/data/music_20.wav...\n",
            "Loading file /content/data/blender_10.wav...\n",
            "Loading file /content/data/music_12.wav...\n",
            "Loading file /content/data/silence_07.wav...\n",
            "Loading file /content/data/vacuum_14.wav...\n",
            "Loading file /content/data/blender_04.wav...\n",
            "Loading file /content/data/alarm_10.wav...\n",
            "Loading file /content/data/music_06.wav...\n",
            "Loading file /content/data/music_10.wav...\n",
            "Loading file /content/data/microwave_02.wav...\n",
            "Loading file /content/data/music_01.wav...\n",
            "Loading file /content/data/vacuum_11.wav...\n",
            "Loading file /content/data/alarm_19.wav...\n",
            "Loading file /content/data/alarm_13.wav...\n",
            "Loading file /content/data/microwave_04.wav...\n",
            "Loading file /content/data/silence_17.wav...\n",
            "Loading file /content/data/vacuum_20.wav...\n",
            "Loading file /content/data/vacuum_04.wav...\n",
            "Loading file /content/data/silence_12.wav...\n",
            "Loading file /content/data/silence_13.wav...\n",
            "Loading file /content/data/alarm_17.wav...\n",
            "Loading file /content/data/microwave_10.wav...\n",
            "Loading file /content/data/blender_06.wav...\n",
            "Loading file /content/data/alarm_06.wav...\n",
            "Loading file /content/data/microwave_14.wav...\n",
            "Loading file /content/data/blender_02.wav...\n",
            "Loading file /content/data/blender_09.wav...\n",
            "Loading file /content/data/silence_14.wav...\n",
            "Loading file /content/data/blender_17.wav...\n",
            "Loading file /content/data/alarm_09.wav...\n",
            "Loading file /content/data/blender_18.wav...\n",
            "Loading file /content/data/silence_06.wav...\n",
            "Loading file /content/data/music_14.wav...\n",
            "Loading file /content/data/music_03.wav...\n",
            "Loading file /content/data/alarm_01.wav...\n",
            "Loading file /content/data/blender_16.wav...\n",
            "Loading file /content/data/alarm_15.wav...\n",
            "Loading file /content/data/microwave_16.wav...\n",
            "Loading file /content/data/silence_19.wav...\n",
            "Loading file /content/data/vacuum_10.wav...\n",
            "Loading file /content/data/blender_15.wav...\n",
            "Loading file /content/data/vacuum_03.wav...\n",
            "Loading file /content/data/microwave_13.wav...\n",
            "Loading file /content/data/blender_11.wav...\n",
            "Loading file /content/data/vacuum_01.wav...\n",
            "Loading file /content/data/microwave_08.wav...\n",
            "Loading file /content/data/vacuum_13.wav...\n",
            "Loading file /content/data/microwave_12.wav...\n",
            "Loading file /content/data/alarm_11.wav...\n",
            "Loading file /content/data/silence_01.wav...\n",
            "Loading file /content/data/silence_11.wav...\n",
            "Loading file /content/data/vacuum_12.wav...\n",
            "Loading file /content/data/vacuum_05.wav...\n",
            "Loading file /content/data/microwave_17.wav...\n",
            "Loading file /content/data/silence_15.wav...\n",
            "Loading file /content/data/alarm_12.wav...\n",
            "Loading file /content/data/vacuum_16.wav...\n",
            "Loading file /content/data/microwave_07.wav...\n",
            "Loading file /content/data/music_18.wav...\n",
            "Loading file /content/data/music_19.wav...\n",
            "Loading file /content/data/silence_08.wav...\n",
            "Loading file /content/data/vacuum_06.wav...\n",
            "Loading file /content/data/silence_18.wav...\n",
            "Loading file /content/data/alarm_04.wav...\n",
            "Loading file /content/data/blender_19.wav...\n",
            "Loading file /content/data/microwave_19.wav...\n",
            "Loading file /content/data/music_17.wav...\n",
            "Loading file /content/data/music_09.wav...\n",
            "Loading file /content/data/microwave_01.wav...\n",
            "Loading file /content/data/alarm_18.wav...\n",
            "Loading file /content/data/music_16.wav...\n",
            "Loading file /content/data/silence_10.wav...\n",
            "Loading file /content/data/music_02.wav...\n",
            "Loading file /content/data/vacuum_15.wav...\n",
            "Loading file /content/data/blender_20.wav...\n",
            "Loading file /content/data/vacuum_07.wav...\n",
            "Loading file /content/data/silence_09.wav...\n",
            "Loading file /content/data/alarm_14.wav...\n",
            "Loading file /content/data/vacuum_02.wav...\n",
            "Loading file /content/data/blender_07.wav...\n",
            "Loading file /content/data/vacuum_08.wav...\n",
            "Loading file /content/data/silence_05.wav...\n",
            "Loading file /content/data/vacuum_09.wav...\n",
            "Loading file /content/data/microwave_15.wav...\n",
            "Loading file /content/data/alarm_08.wav...\n",
            "Loading file /content/data/silence_02.wav...\n",
            "Loading file /content/data/music_13.wav...\n",
            "Loading file /content/data/silence_16.wav...\n",
            "Loading file /content/data/microwave_03.wav...\n",
            "Loading file /content/data/microwave_20.wav...\n",
            "Loading file /content/data/vacuum_17.wav...\n",
            "Loading file /content/data/music_08.wav...\n",
            "Loading file /content/data/microwave_05.wav...\n",
            "Loading file /content/data/alarm_16.wav...\n",
            "Loading file /content/data/blender_14.wav...\n",
            "Loading file /content/data/blender_13.wav...\n",
            "Loading file /content/data/music_07.wav...\n",
            "Loading file /content/data/microwave_09.wav...\n",
            "Loading file /content/data/silence_20.wav...\n",
            "Loading file /content/data/blender_12.wav...\n",
            "Loading file /content/data/music_04.wav...\n",
            "DONE!\n"
          ]
        }
      ]
    },
    {
      "cell_type": "markdown",
      "source": [
        "###Train the model using `RandomForestClassifier` and analysis\n",
        "**Observations:** The model seems to be really overfit. This might happen because for most of the data, we repeatly recorded the same infomation so there's not that much variety.\n",
        "#####Analyze the pipeline's performance using 10-fold cross-validation."
      ],
      "metadata": {
        "id": "UU192b1CqVHt"
      }
    },
    {
      "cell_type": "code",
      "source": [
        "# initialize score dictionary\n",
        "scores = {}\n",
        "scores[\"alarm\"] = []\n",
        "scores[\"blender\"] = []\n",
        "scores[\"microwave\"] = []\n",
        "scores[\"music\"] = []\n",
        "scores[\"vacuum\"] = []\n",
        "scores[\"silence\"] = []\n",
        "\n",
        "# Create 10 folds of data\n",
        "cv = KFold(n_splits=10, random_state=42, shuffle=True)\n",
        "clf = RandomForestClassifier(max_depth=3, random_state=0)\n",
        "\n",
        "y_true = []\n",
        "y_pred = []"
      ],
      "metadata": {
        "id": "u8tZ3hDlebOy"
      },
      "execution_count": 166,
      "outputs": []
    },
    {
      "cell_type": "code",
      "source": [
        "for train_index, test_index in cv.split(X):\n",
        "    print(\"Train Index: \", train_index)\n",
        "    print(\"Test Index: \", test_index)\n",
        "    X_train, X_test, y_train, y_test = np.array(X)[train_index], np.array(X)[test_index], np.array(y)[train_index], np.array(y)[test_index]\n",
        "    clf.fit(X_train, y_train)\n",
        "    predictions = clf.predict(X_test)\n",
        "    y_true.extend(np.ndarray.tolist(y_test))\n",
        "    y_pred.extend(np.ndarray.tolist(predictions))\n",
        "    for i in range(len(X_test)):\n",
        "      spec_X_test, spec_y_test = X_test[i].reshape(1, -1), y_test[i].reshape(1, -1)\n",
        "      scores[str(spec_y_test[0][0])].append(clf.score(spec_X_test, spec_y_test))\n",
        "\n",
        "for key in scores:\n",
        "  print(f\"{key} mean accuracy:\" + str(np.mean(scores[key])))"
      ],
      "metadata": {
        "colab": {
          "base_uri": "https://localhost:8080/",
          "height": 0
        },
        "id": "3HGZK8Vread0",
        "outputId": "a43873df-f9be-4db2-cdc1-6ae0febf17b5"
      },
      "execution_count": 167,
      "outputs": [
        {
          "output_type": "stream",
          "name": "stdout",
          "text": [
            "Train Index:  [  0   1   2   3   5   6   7   8   9  11  12  13  14  15  16  17  19  20\n",
            "  21  22  23  24  25  27  28  29  30  31  32  33  34  35  36  37  38  39\n",
            "  41  42  43  45  46  48  49  50  51  52  53  54  56  57  58  59  60  61\n",
            "  63  65  66  67  68  69  70  71  72  74  75  76  77  78  79  80  81  82\n",
            "  83  84  85  86  87  88  89  90  91  92  93  94  95  96  97  98  99 100\n",
            " 101 102 103 104 105 106 108 109 110 111 112 113 114 115 116 117 118 119]\n",
            "Test Index:  [  4  10  18  26  40  44  47  55  62  64  73 107]\n",
            "Train Index:  [  1   2   3   4   5   6   7   8   9  10  12  13  14  15  16  17  18  19\n",
            "  20  21  22  23  24  25  26  27  28  29  30  32  33  34  35  37  38  39\n",
            "  40  41  42  43  44  46  47  48  49  50  51  52  53  54  55  56  57  58\n",
            "  59  60  61  62  63  64  66  67  68  69  71  72  73  74  75  76  77  78\n",
            "  79  80  81  82  83  84  85  86  87  90  92  93  94  95  96  97  98  99\n",
            " 100 101 102 103 105 106 107 108 110 111 112 113 114 115 116 117 118 119]\n",
            "Test Index:  [  0  11  31  36  45  65  70  88  89  91 104 109]\n",
            "Train Index:  [  0   1   2   3   4   5   6   7   8   9  10  11  13  14  16  17  18  19\n",
            "  20  21  23  25  26  27  28  29  30  31  32  33  34  35  36  37  38  39\n",
            "  40  41  43  44  45  46  47  48  49  50  51  52  53  54  55  57  58  59\n",
            "  60  61  62  63  64  65  66  67  68  69  70  71  72  73  74  75  77  79\n",
            "  80  81  82  83  84  85  86  87  88  89  90  91  92  93  94  95  98  99\n",
            " 100 101 102 103 104 105 106 107 108 109 111 112 113 115 116 117 118 119]\n",
            "Test Index:  [ 12  15  22  24  42  56  76  78  96  97 110 114]\n",
            "Train Index:  [  0   1   2   3   4   6   7   8  10  11  12  13  14  15  16  17  18  19\n",
            "  20  21  22  23  24  26  27  29  31  32  34  35  36  37  38  39  40  41\n",
            "  42  43  44  45  46  47  48  49  50  51  52  54  55  56  57  58  59  60\n",
            "  61  62  63  64  65  66  67  68  70  71  72  73  74  75  76  77  78  79\n",
            "  80  81  82  83  84  86  87  88  89  91  92  93  94  95  96  97  99 100\n",
            " 101 102 103 104 105 106 107 108 109 110 111 112 113 114 115 116 117 119]\n",
            "Test Index:  [  5   9  25  28  30  33  53  69  85  90  98 118]\n",
            "Train Index:  [  0   1   2   3   4   5   6   8   9  10  11  12  13  14  15  17  18  19\n",
            "  20  21  22  23  24  25  26  27  28  29  30  31  32  33  36  37  38  40\n",
            "  41  42  44  45  46  47  48  50  51  52  53  54  55  56  57  58  59  60\n",
            "  61  62  63  64  65  69  70  71  73  74  75  76  77  78  79  80  81  82\n",
            "  83  84  85  86  87  88  89  90  91  92  93  94  95  96  97  98  99 100\n",
            " 101 102 103 104 105 106 107 108 109 110 111 112 114 115 116 117 118 119]\n",
            "Test Index:  [  7  16  34  35  39  43  49  66  67  68  72 113]\n",
            "Train Index:  [  0   1   2   4   5   6   7   9  10  11  12  14  15  16  18  20  21  22\n",
            "  23  24  25  26  28  29  30  31  32  33  34  35  36  37  39  40  41  42\n",
            "  43  44  45  46  47  48  49  50  51  52  53  54  55  56  57  58  59  60\n",
            "  61  62  63  64  65  66  67  68  69  70  71  72  73  74  75  76  77  78\n",
            "  79  80  81  82  85  86  87  88  89  90  91  92  93  94  96  97  98  99\n",
            " 101 102 103 104 105 106 107 108 109 110 111 112 113 114 115 116 118 119]\n",
            "Test Index:  [  3   8  13  17  19  27  38  83  84  95 100 117]\n",
            "Train Index:  [  0   1   2   3   4   5   7   8   9  10  11  12  13  14  15  16  17  18\n",
            "  19  20  21  22  23  24  25  26  27  28  29  30  31  32  33  34  35  36\n",
            "  37  38  39  40  41  42  43  44  45  47  48  49  51  52  53  55  56  57\n",
            "  58  59  60  62  63  64  65  66  67  68  69  70  71  72  73  74  75  76\n",
            "  78  82  83  84  85  86  87  88  89  90  91  92  93  95  96  97  98  99\n",
            " 100 101 102 103 104 105 106 107 108 109 110 112 113 114 115 117 118 119]\n",
            "Test Index:  [  6  46  50  54  61  77  79  80  81  94 111 116]\n",
            "Train Index:  [  0   1   2   3   4   5   6   7   8   9  10  11  12  13  14  15  16  17\n",
            "  18  19  20  21  22  23  24  25  26  27  28  29  30  31  33  34  35  36\n",
            "  37  38  39  40  42  43  44  45  46  47  49  50  51  52  53  54  55  56\n",
            "  60  61  62  64  65  66  67  68  69  70  71  72  73  74  76  77  78  79\n",
            "  80  81  82  83  84  85  86  87  88  89  90  91  92  94  95  96  97  98\n",
            "  99 100 102 103 104 106 107 108 109 110 111 113 114 115 116 117 118 119]\n",
            "Test Index:  [ 32  41  48  57  58  59  63  75  93 101 105 112]\n",
            "Train Index:  [  0   3   4   5   6   7   8   9  10  11  12  13  14  15  16  17  18  19\n",
            "  20  22  24  25  26  27  28  30  31  32  33  34  35  36  38  39  40  41\n",
            "  42  43  44  45  46  47  48  49  50  51  53  54  55  56  57  58  59  60\n",
            "  61  62  63  64  65  66  67  68  69  70  71  72  73  74  75  76  77  78\n",
            "  79  80  81  82  83  84  85  86  88  89  90  91  92  93  94  95  96  97\n",
            "  98 100 101 102 104 105 106 107 109 110 111 112 113 114 116 117 118 119]\n",
            "Test Index:  [  1   2  21  23  29  37  52  87  99 103 108 115]\n",
            "Train Index:  [  0   1   2   3   4   5   6   7   8   9  10  11  12  13  15  16  17  18\n",
            "  19  21  22  23  24  25  26  27  28  29  30  31  32  33  34  35  36  37\n",
            "  38  39  40  41  42  43  44  45  46  47  48  49  50  52  53  54  55  56\n",
            "  57  58  59  61  62  63  64  65  66  67  68  69  70  72  73  75  76  77\n",
            "  78  79  80  81  83  84  85  87  88  89  90  91  93  94  95  96  97  98\n",
            "  99 100 101 103 104 105 107 108 109 110 111 112 113 114 115 116 117 118]\n",
            "Test Index:  [ 14  20  51  60  71  74  82  86  92 102 106 119]\n",
            "alarm mean accuracy:1.0\n",
            "blender mean accuracy:1.0\n",
            "microwave mean accuracy:1.0\n",
            "music mean accuracy:0.95\n",
            "vacuum mean accuracy:1.0\n",
            "silence mean accuracy:1.0\n"
          ]
        }
      ]
    },
    {
      "cell_type": "code",
      "source": [
        "cm = confusion_matrix(y_true, y_pred, labels=clf.classes_)\n",
        "disp = ConfusionMatrixDisplay(confusion_matrix=cm, display_labels=clf.classes_)\n",
        "disp.plot()\n",
        "plt.show()"
      ],
      "metadata": {
        "colab": {
          "base_uri": "https://localhost:8080/",
          "height": 283
        },
        "id": "IuQZfejn2RtF",
        "outputId": "a7309b4b-58d1-43f7-a08a-b67245012792"
      },
      "execution_count": 168,
      "outputs": [
        {
          "output_type": "display_data",
          "data": {
            "text/plain": [
              "<Figure size 432x288 with 2 Axes>"
            ],
            "image/png": "[encoded data removed]"
          },
          "metadata": {
            "needs_background": "light"
          }
        }
      ]
    }
  ]
}